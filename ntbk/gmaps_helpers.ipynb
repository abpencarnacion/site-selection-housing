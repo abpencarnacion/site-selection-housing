{
 "cells": [
  {
   "cell_type": "code",
   "execution_count": 21,
   "metadata": {},
   "outputs": [],
   "source": [
    "import googlemaps\n",
    "import requests\n",
    "import html\n",
    "import json\n",
    "\n",
    "'''\n",
    "personal note: api key is saved locally\n",
    "'''"
   ]
  },
  {
   "attachments": {},
   "cell_type": "markdown",
   "metadata": {},
   "source": [
    "## Destination ##"
   ]
  },
  {
   "cell_type": "code",
   "execution_count": 37,
   "metadata": {},
   "outputs": [
    {
     "name": "stdout",
     "output_type": "stream",
     "text": [
      "['Aidenbachstraße', 'U-Bahnhof Aidenbachstraße', 'P+R Parkdeck Aidenbachstraße']\n"
     ]
    }
   ],
   "source": [
    "loc_names_list = []\n",
    "loc_coords_list = []\n",
    "\n",
    "class Location:\n",
    "\n",
    "    # def __init__(self, dest_search_entry):\n",
    "        \n",
    "    #     ## Initialize the manual entry\n",
    "    #     self.dest_search_entry = dest_search_entry\n",
    "\n",
    "    #     ## Initialize the text query for API request-- escape characters for HTML\n",
    "    #     self.text_query = html.escape(self.dest_search_entry)\n",
    "        \n",
    "    #     ## Initialize the lists to which we'll append the API responses later\n",
    "    #     self.dest_names_list = []\n",
    "    #     self.dest_coords_list = []\n",
    "\n",
    "\n",
    "    def __init__(self, filepath, loc_names_list, loc_coords_list):\n",
    "        \n",
    "        ### Use interim method since we will not be making an API call\n",
    "        ## Initialize the filepath to be manually declared\n",
    "        self.filepath = filepath\n",
    "        \n",
    "        ## Initialize the lists to which we'll append the API responses later\n",
    "        self.loc_names_list = loc_names_list\n",
    "        self.loc_coords_list = loc_coords_list\n",
    "        \n",
    "\n",
    "    # def get_dest_response(self):\n",
    "\n",
    "        # # Make the API request then save the results so that we can pull the name and coords later\n",
    "        # url = \"https://maps.googleapis.com/maps/api/place/textsearch/json?query={}&key={}\".format(self.text_query,api_key)\n",
    "        # self.dest_response = requests.request(\"GET\", url).json()['results']\n",
    "\n",
    "    \n",
    "    def get_response(self):\n",
    "\n",
    "        ### Use interim json response to save on API calls ###\n",
    "        ## Open the saved json response then access results sub-array\n",
    "        with open(self.filepath) as f:\n",
    "            data = json.load(f)\n",
    "        self.response = data['results']\n",
    "    \n",
    "\n",
    "    def get_name_from_response(self):\n",
    "\n",
    "        ## Count the number of results came back from API call\n",
    "        loops = len(self.response)\n",
    "        \n",
    "        ## For each result, get the name and append to the above list\n",
    "        for l in range(0,loops):\n",
    "            self.loc_names_list.append(self.response[l]['name'])\n",
    "    \n",
    "\n",
    "    def get_coords_from_response(self):\n",
    "\n",
    "        ## Count the number of results came back from API call\n",
    "        loops = len(self.response)\n",
    "        \n",
    "        ## For each result, get the coords/lat-lon pair and append to the above list\n",
    "        for l in range(0,loops):\n",
    "            coords_pair = []\n",
    "            coords_pair.append(self.response[l]['geometry']['location']['lng'])\n",
    "            coords_pair.append(self.response[l]['geometry']['location']['lat'])\n",
    "            self.loc_coords_list.append(coords_pair)\n",
    "    \n",
    "\n",
    "    def loc_main(self):\n",
    "\n",
    "        ## All methods in sequence\n",
    "        self.get_response()\n",
    "        self.get_name_from_response()\n",
    "        self.get_coords_from_response()\n",
    "    \n",
    "\n",
    "\n",
    "# dest = Location('../data/dest_TUM Germany.json')\n",
    "# dest.loc_main()\n",
    "\n",
    "src = Location('../data/src_Aidenbachstraße.json',loc_names_list,loc_coords_list)\n",
    "src.loc_main()\n",
    "\n",
    "print(src.loc_names_list)"
   ]
  },
  {
   "cell_type": "code",
   "execution_count": 68,
   "metadata": {},
   "outputs": [
    {
     "data": {
      "text/plain": [
       "[[11.5237135, 48.0985132],\n",
       " [11.5251695, 48.0979097],\n",
       " [11.5245227, 48.0974574],\n",
       " [11.579823, 48.1358902]]"
      ]
     },
     "execution_count": 68,
     "metadata": {},
     "output_type": "execute_result"
    }
   ],
   "source": [
    "loc_coords_list"
   ]
  },
  {
   "cell_type": "code",
   "execution_count": 38,
   "metadata": {},
   "outputs": [
    {
     "name": "stdout",
     "output_type": "stream",
     "text": [
      "['Aidenbachstraße', 'U-Bahnhof Aidenbachstraße', 'P+R Parkdeck Aidenbachstraße', 'Tal']\n"
     ]
    }
   ],
   "source": [
    "src = Location('../data/src_Tal Munich.json',loc_names_list,loc_coords_list)\n",
    "src.loc_main()\n",
    "\n",
    "print(src.loc_names_list)"
   ]
  },
  {
   "cell_type": "code",
   "execution_count": 2,
   "metadata": {},
   "outputs": [],
   "source": [
    "# import json\n",
    "\n",
    "# jsonString = json.dumps({'html_attributions': [],\n",
    "#  'results': [{'business_status': 'OPERATIONAL',\n",
    "#    'formatted_address': 'Arcisstraße 21, 80333 München, Germany',\n",
    "#    'geometry': {'location': {'lat': 48.14966, 'lng': 11.5678602},\n",
    "#     'viewport': {'northeast': {'lat': 48.15334944999999, 'lng': 11.57129085},\n",
    "#      'southwest': {'lat': 48.14575405, 'lng': 11.56361505}}},\n",
    "#    'icon': 'https://maps.gstatic.com/mapfiles/place_api/icons/v1/png_71/school-71.png',\n",
    "#    'icon_background_color': '#7B9EB0',\n",
    "#    'icon_mask_base_uri': 'https://maps.gstatic.com/mapfiles/place_api/icons/v2/school_pinlet',\n",
    "#    'name': 'Technical University of Munich',\n",
    "#    'photos': [{'height': 4000,\n",
    "#      'html_attributions': ['<a href=\"https://maps.google.com/maps/contrib/117664665804717655255\">A Google User</a>'],\n",
    "#      'photo_reference': 'AZose0kF8LZFXqlC7J81rmzCBAclglqpTxfxZ-NP21iHG_9e-3NSk_9HZ3TzMZhDw2k8r-xEGXatWo_UUSvhO7bnkE1mPARM-77NN-C3iMS35wYJOnQM3choy-bI9-asj_LMS7KdDdIzimNlEQPEB8f34JNUNiqBt5ImMGlnTjfc8DIQd6vT',\n",
    "#      'width': 6000}],\n",
    "#    'place_id': 'ChIJEYxtM2FynkcRnfFb3ERNoHk',\n",
    "#    'plus_code': {'compound_code': '4HX9+V4 Munich, Germany',\n",
    "#     'global_code': '8FWH4HX9+V4'},\n",
    "#    'rating': 4.5,\n",
    "#    'reference': 'ChIJEYxtM2FynkcRnfFb3ERNoHk',\n",
    "#    'types': ['university', 'point_of_interest', 'establishment'],\n",
    "#    'user_ratings_total': 794},\n",
    "#   {'business_status': 'OPERATIONAL',\n",
    "#    'formatted_address': 'Arcisstraße 21, 80333 München, Germany',\n",
    "#    'geometry': {'location': {'lat': 48.1500457, 'lng': 11.5670102},\n",
    "#     'viewport': {'northeast': {'lat': 48.15144912989272,\n",
    "#       'lng': 11.56817337989272},\n",
    "#      'southwest': {'lat': 48.14874947010728, 'lng': 11.56547372010728}}},\n",
    "#    'icon': 'https://maps.gstatic.com/mapfiles/place_api/icons/v1/png_71/school-71.png',\n",
    "#    'icon_background_color': '#7B9EB0',\n",
    "#    'icon_mask_base_uri': 'https://maps.gstatic.com/mapfiles/place_api/icons/v2/school_pinlet',\n",
    "#    'name': 'TUM School of Management',\n",
    "#    'photos': [{'height': 6664,\n",
    "#      'html_attributions': ['<a href=\"https://maps.google.com/maps/contrib/108296290498280953345\">A Google User</a>'],\n",
    "#      'photo_reference': 'AZose0lvDQjLSHHkTLqs2V1A_OhZuKtp_X7ELy7Utkc46Z9eA80uH3rY8YaRRrcauIhXXyf_K61ZCHFI0MGUwKeIVSYfztZKuJLxIeDP2-AkfTczh-LEJeBqcATWO_pxuHUoXsj70zzWQ7RRZt_FrENeAA3YrbOsbn8Ilh9HDtB8io1Tw28L',\n",
    "#      'width': 4988}],\n",
    "#    'place_id': 'ChIJQXq8TO91nkcRJ_fD7hjtryI',\n",
    "#    'plus_code': {'compound_code': '5H28+2R Munich, Germany',\n",
    "#     'global_code': '8FWH5H28+2R'},\n",
    "#    'rating': 4.6,\n",
    "#    'reference': 'ChIJQXq8TO91nkcRJ_fD7hjtryI',\n",
    "#    'types': ['university', 'point_of_interest', 'establishment'],\n",
    "#    'user_ratings_total': 64}],\n",
    "#  'status': 'OK'})\n",
    "# jsonFile = open(\"dest.json\", \"w\")\n",
    "# jsonFile.write(jsonString)\n",
    "# jsonFile.close()"
   ]
  },
  {
   "cell_type": "code",
   "execution_count": 3,
   "metadata": {},
   "outputs": [
    {
     "name": "stdout",
     "output_type": "stream",
     "text": [
      "{'html_attributions': [], 'results': [{'business_status': 'OPERATIONAL', 'formatted_address': 'Arcisstraße 21, 80333 München, Germany', 'geometry': {'location': {'lat': 48.14966, 'lng': 11.5678602}, 'viewport': {'northeast': {'lat': 48.15334944999999, 'lng': 11.57129085}, 'southwest': {'lat': 48.14575405, 'lng': 11.56361505}}}, 'icon': 'https://maps.gstatic.com/mapfiles/place_api/icons/v1/png_71/school-71.png', 'icon_background_color': '#7B9EB0', 'icon_mask_base_uri': 'https://maps.gstatic.com/mapfiles/place_api/icons/v2/school_pinlet', 'name': 'Technical University of Munich', 'photos': [{'height': 4000, 'html_attributions': ['<a href=\"https://maps.google.com/maps/contrib/117664665804717655255\">A Google User</a>'], 'photo_reference': 'AZose0kF8LZFXqlC7J81rmzCBAclglqpTxfxZ-NP21iHG_9e-3NSk_9HZ3TzMZhDw2k8r-xEGXatWo_UUSvhO7bnkE1mPARM-77NN-C3iMS35wYJOnQM3choy-bI9-asj_LMS7KdDdIzimNlEQPEB8f34JNUNiqBt5ImMGlnTjfc8DIQd6vT', 'width': 6000}], 'place_id': 'ChIJEYxtM2FynkcRnfFb3ERNoHk', 'plus_code': {'compound_code': '4HX9+V4 Munich, Germany', 'global_code': '8FWH4HX9+V4'}, 'rating': 4.5, 'reference': 'ChIJEYxtM2FynkcRnfFb3ERNoHk', 'types': ['university', 'point_of_interest', 'establishment'], 'user_ratings_total': 794}, {'business_status': 'OPERATIONAL', 'formatted_address': 'Arcisstraße 21, 80333 München, Germany', 'geometry': {'location': {'lat': 48.1500457, 'lng': 11.5670102}, 'viewport': {'northeast': {'lat': 48.15144912989272, 'lng': 11.56817337989272}, 'southwest': {'lat': 48.14874947010728, 'lng': 11.56547372010728}}}, 'icon': 'https://maps.gstatic.com/mapfiles/place_api/icons/v1/png_71/school-71.png', 'icon_background_color': '#7B9EB0', 'icon_mask_base_uri': 'https://maps.gstatic.com/mapfiles/place_api/icons/v2/school_pinlet', 'name': 'TUM School of Management', 'photos': [{'height': 6664, 'html_attributions': ['<a href=\"https://maps.google.com/maps/contrib/108296290498280953345\">A Google User</a>'], 'photo_reference': 'AZose0lvDQjLSHHkTLqs2V1A_OhZuKtp_X7ELy7Utkc46Z9eA80uH3rY8YaRRrcauIhXXyf_K61ZCHFI0MGUwKeIVSYfztZKuJLxIeDP2-AkfTczh-LEJeBqcATWO_pxuHUoXsj70zzWQ7RRZt_FrENeAA3YrbOsbn8Ilh9HDtB8io1Tw28L', 'width': 4988}], 'place_id': 'ChIJQXq8TO91nkcRJ_fD7hjtryI', 'plus_code': {'compound_code': '5H28+2R Munich, Germany', 'global_code': '8FWH5H28+2R'}, 'rating': 4.6, 'reference': 'ChIJQXq8TO91nkcRJ_fD7hjtryI', 'types': ['university', 'point_of_interest', 'establishment'], 'user_ratings_total': 64}], 'status': 'OK'}\n"
     ]
    }
   ],
   "source": [
    "import json\n",
    "\n",
    "with open('dest.json') as f:\n",
    "   data = json.load(f)\n",
    "   print(data)"
   ]
  },
  {
   "attachments": {},
   "cell_type": "markdown",
   "metadata": {},
   "source": [
    "## Housing Options ##"
   ]
  },
  {
   "cell_type": "code",
   "execution_count": null,
   "metadata": {},
   "outputs": [],
   "source": [
    "\"\"\"\n",
    "Note the links:\n",
    "1: https://housinganywhere.com/room/ut1099704/de/Munich/balanstra-e?utm_source=google&utm_medium=cpc&utm_campaign=12663410130&utm_content=511598843467&utm_term=studio%20apartments%20in%20munich&g_campaignid=12663410130&g_adgroupid=117627635462&gad=1&gclid=Cj0KCQjw3a2iBhCFARIsAD4jQB3PLrZ1V_YYBXIJdxtxd-U8TN7ZYTQ5PSa_qu0LqFGuTu_siTRqx5UaAlHaEALw_wcB&priceMax=242000&priceMin=135300\n",
    "2: https://housinganywhere.com/room/ut1322749/de/Munich/tal?utm_source=google&utm_medium=cpc&utm_campaign=12663410130&utm_content=511598843467&utm_term=studio%20apartments%20in%20munich&g_campaignid=12663410130&g_adgroupid=117627635462&gad=1&gclid=Cj0KCQjw3a2iBhCFARIsAD4jQB3PLrZ1V_YYBXIJdxtxd-U8TN7ZYTQ5PSa_qu0LqFGuTu_siTRqx5UaAlHaEALw_wcB&priceMax=121800\n",
    "3: https://housinganywhere.com/room/ut1148877/de/Munich/clarita-bernhard-stra-e?utm_source=google&utm_medium=cpc&utm_campaign=12663410130&utm_content=511598843467&utm_term=studio%20apartments%20in%20munich&g_campaignid=12663410130&g_adgroupid=117627635462&gad=1&gclid=Cj0KCQjw3a2iBhCFARIsAD4jQB3PLrZ1V_YYBXIJdxtxd-U8TN7ZYTQ5PSa_qu0LqFGuTu_siTRqx5UaAlHaEALw_wcB\n",
    "4: https://housinganywhere.com/room/ut1283582/de/Munich/carl-wery-stra-e?utm_source=google&utm_medium=cpc&utm_campaign=12663410130&utm_content=511598843467&utm_term=studio%20apartments%20in%20munich&g_campaignid=12663410130&g_adgroupid=117627635462&gad=1&gclid=Cj0KCQjw3a2iBhCFARIsAD4jQB3PLrZ1V_YYBXIJdxtxd-U8TN7ZYTQ5PSa_qu0LqFGuTu_siTRqx5UaAlHaEALw_wcB\n",
    "5: https://housinganywhere.com/room/ut1073356/de/Munich/aidenbachstra-e?utm_source=google&utm_medium=cpc&utm_campaign=12663410130&utm_content=511598843467&utm_term=studio%20apartments%20in%20munich&g_campaignid=12663410130&g_adgroupid=117627635462&gad=1&gclid=Cj0KCQjw3a2iBhCFARIsAD4jQB3PLrZ1V_YYBXIJdxtxd-U8TN7ZYTQ5PSa_qu0LqFGuTu_siTRqx5UaAlHaEALw_wcB\n",
    "\n",
    "Note the addresses (respectively):\n",
    "1: Balanstraße\n",
    "2: Tal\n",
    "3: Clarita-Bernhard-Straße\n",
    "4: Carl-Wery-Straße\n",
    "5: Aidenbachstraße\n",
    "\"\"\""
   ]
  },
  {
   "attachments": {},
   "cell_type": "markdown",
   "metadata": {},
   "source": [
    "## Routes ##"
   ]
  },
  {
   "cell_type": "code",
   "execution_count": 70,
   "metadata": {},
   "outputs": [
    {
     "name": "stdout",
     "output_type": "stream",
     "text": [
      "{'geocoded_waypoints': [{}, {}], 'routes': [], 'status': 'ZERO_RESULTS'}\n"
     ]
    }
   ],
   "source": [
    "import requests\n",
    "\n",
    "url = \"https://maps.googleapis.com/maps/api/directions/json?origin=11.5237135,48.0985132&destination=11.5251695,48.0979097&mode=transit&key={}\".format(api_key)\n",
    "\n",
    "payload={}\n",
    "headers = {}\n",
    "\n",
    "response = requests.request(\"GET\", url, headers=headers, data=payload)\n",
    "\n",
    "print(response.json())"
   ]
  },
  {
   "cell_type": "code",
   "execution_count": 67,
   "metadata": {},
   "outputs": [],
   "source": [
    "jsonString = json.dumps(response.json())\n",
    "jsonFile = open(\"../data/routes_sample.json\", \"w\")\n",
    "jsonFile.write(jsonString)\n",
    "jsonFile.close()"
   ]
  }
 ],
 "metadata": {
  "kernelspec": {
   "display_name": "practice",
   "language": "python",
   "name": "python3"
  },
  "language_info": {
   "codemirror_mode": {
    "name": "ipython",
    "version": 3
   },
   "file_extension": ".py",
   "mimetype": "text/x-python",
   "name": "python",
   "nbconvert_exporter": "python",
   "pygments_lexer": "ipython3",
   "version": "3.11.3"
  },
  "orig_nbformat": 4
 },
 "nbformat": 4,
 "nbformat_minor": 2
}
